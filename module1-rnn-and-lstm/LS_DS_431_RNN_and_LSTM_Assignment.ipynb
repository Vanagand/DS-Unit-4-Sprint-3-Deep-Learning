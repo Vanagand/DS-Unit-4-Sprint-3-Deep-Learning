{
 "cells": [
  {
   "cell_type": "markdown",
   "metadata": {},
   "source": [
    "<img align=\"left\" src=\"https://lever-client-logos.s3.amazonaws.com/864372b1-534c-480e-acd5-9711f850815c-1524247202159.png\" width=200>\n",
    "<br></br>\n",
    "<br></br>\n",
    "\n",
    "## *Data Science Unit 4 Sprint 3 Assignment 1*\n",
    "\n",
    "# Recurrent Neural Networks and Long Short Term Memory (LSTM)\n",
    "\n",
    "![Monkey at a typewriter](https://upload.wikimedia.org/wikipedia/commons/thumb/3/3c/Chimpanzee_seated_at_typewriter.jpg/603px-Chimpanzee_seated_at_typewriter.jpg)\n",
    "\n",
    "It is said that [infinite monkeys typing for an infinite amount of time](https://en.wikipedia.org/wiki/Infinite_monkey_theorem) will eventually type, among other things, the complete works of Wiliam Shakespeare. Let's see if we can get there a bit faster, with the power of Recurrent Neural Networks and LSTM.\n",
    "\n",
    "This text file contains the complete works of Shakespeare: https://www.gutenberg.org/files/100/100-0.txt\n",
    "\n",
    "Use it as training data for an RNN - you can keep it simple and train character level, and that is suggested as an initial approach.\n",
    "\n",
    "Then, use that trained RNN to generate Shakespearean-ish text. Your goal - a function that can take, as an argument, the size of text (e.g. number of characters or lines) to generate, and returns generated text of that size.\n",
    "\n",
    "Note - Shakespeare wrote an awful lot. It's OK, especially initially, to sample/use smaller data and parameters, so you can have a tighter feedback loop when you're trying to get things running. Then, once you've got a proof of concept - start pushing it more!"
   ]
  },
  {
   "cell_type": "code",
   "execution_count": 14,
   "metadata": {
    "colab": {},
    "colab_type": "code",
    "id": "Ltj1je1fp5rO"
   },
   "outputs": [],
   "source": [
    "#> Import statements\n",
    "from tensorflow.keras.callbacks import LambdaCallback\n",
    "from tensorflow.keras.models import Sequential\n",
    "from tensorflow.keras.layers import Dense, LSTM\n",
    "from tensorflow.keras.optimizers import RMSprop\n",
    "\n",
    "import requests\n",
    "import string\n",
    "import numpy as np\n",
    "import pandas as pd"
   ]
  },
  {
   "cell_type": "code",
   "execution_count": 10,
   "metadata": {},
   "outputs": [],
   "source": [
    "#> Data declaration\n",
    "url = 'https://www.gutenberg.org/files/100/100-0.txt'\n",
    "\n",
    "data = requests.get(url)\n",
    "\n",
    "data.encoding = 'utf-8'"
   ]
  },
  {
   "cell_type": "code",
   "execution_count": 12,
   "metadata": {},
   "outputs": [],
   "source": [
    "data = data.text"
   ]
  },
  {
   "cell_type": "code",
   "execution_count": 35,
   "metadata": {},
   "outputs": [],
   "source": [
    "#> Text cleaning\n",
    "def replaceMultiple(mainString, toBeReplaces, newString):\n",
    "    # Iterate over the strings to be replaced\n",
    "    for n in toBeReplaces :\n",
    "        # Check if string is in the main string\n",
    "        if n in mainString :\n",
    "            # Replace the string\n",
    "            mainString = mainString.replace(n, newString)\n",
    "    \n",
    "    return  mainString\n",
    "\n",
    "new_data = replaceMultiple(data, ['\\t', '\\n', '\\r', '\\v', '\\f'], '')"
   ]
  },
  {
   "cell_type": "code",
   "execution_count": 39,
   "metadata": {
    "collapsed": true,
    "jupyter": {
     "outputs_hidden": true
    }
   },
   "outputs": [
    {
     "data": {
      "text/plain": [
       "'\\ufeffProject Gutenberg’s The Complete Works of William Shakespeare, by WilliamShakespeareThis eBook is for the use of anyone anywhere in the United States andmost other parts of the world at no cost and with almost no restrictionswhatsoever.  You may copy it, give it away or re-use it under the termsof the Project Gutenberg License included with this eBook or online atwww.gutenberg.org.  If you are not located in the United States, you’llhave to check the laws of the country where you are located before usingthis ebook.Title: The Complete Works of William ShakespeareAuthor: William ShakespeareRelease Date: January 1994 [EBook #100]Last Updated: November 7, 2019Language: EnglishCharacter set encoding: UTF-8*** START OF THIS PROJECT GUTENBERG EBOOK THE COMPLETE WORKS OF WILLIAM SHAKESPEARE ***The Complete Works of William Shakespeareby William Shakespeare      Contents               THE SONNETS               ALL’S WELL THAT ENDS WELL               THE TRAGEDY OF ANTONY AND CLEOPATRA               AS YOU LIKE IT               THE COMEDY OF ERRORS               THE TRAGEDY OF CORIOLANUS               CYMBELINE               THE TRAGEDY OF HAMLET, PRINCE OF DENMARK               THE FIRST PART OF KING HENRY THE FOURTH               THE SECOND PART OF KING HENRY THE FOURTH               THE LIFE OF KING HENRY THE FIFTH               THE FIRST PART OF HENRY THE SIXTH               THE SECOND PART OF KING HENRY THE SIXTH               THE THIRD PART OF KING HENRY THE SIXTH               KING HENRY THE EIGHTH               KING JOHN               THE TRAGEDY OF JULIUS CAESAR               THE TRAGEDY OF KING LEAR               LOVE’S LABOUR’S LOST               THE TRAGEDY OF MACBETH               MEASURE FOR MEASURE               THE MERCHANT OF VENICE               THE MERRY WIVES OF WINDSOR               A MIDSUMMER NIGHT’S DREAM               MUCH ADO ABOUT NOTHING               THE TRAGEDY OF OTHELLO, MOOR OF VENICE               PERICLES, PRINCE OF TYRE               KING RICHARD THE SECOND               KING RICHARD THE THIRD               THE TRAGEDY OF ROMEO AND JULIET               THE TAMING OF THE SHREW               THE TEMPEST               THE LIFE OF TIMON OF ATHENS               THE TRAGEDY OF TITUS ANDRONICUS               THE HISTORY OF TROILUS AND CRESSIDA               TWELFTH NIGHT; OR, WHAT YOU WILL               THE TWO GENTLEMEN OF VERONA               THE TWO NOBLE KINSMEN               THE WINTER’S TALE               A LOVER’S COMPLAINT               THE PASSIONATE PILGRIM               THE PHOENIX AND THE TURTLE               THE RAPE OF LUCRECE               VENUS AND ADONISTHE SONNETS                    1From fairest creatures we desire increase,That thereby beauty’s rose might never die,But as the riper should by time decease,His tender heir might bear his memory:But thou contracted to thine own bright eyes,Feed’st thy light’s flame with self-substantial fuel,Making a famine where abundance lies,Thy self thy foe, to thy sweet self too cruel:Thou that art now the world’s fresh ornament,And only herald to the gaudy spring,Within thine own bud buriest thy content,And, tender churl, mak’st waste in niggarding:  Pity the world, or else this glutton be,  To eat the world’s due, by the grave and thee.                    2When forty winters shall besiege thy brow,And dig deep trenches in thy beauty’s field,Thy youth’s proud livery so gazed on now,Will be a tattered weed of small worth held:Then being asked, where all thy beauty lies,Where all the treasure of thy lusty days;To say, within thine own deep sunken eyes,Were an all-eating shame, and thriftless praise.How much more praise deserv’d thy beauty’s use,If thou couldst answer ‘This fair child of mineShall sum my count, and make my old excuse,’Proving his beauty by succession thine.  This were to be new made when thou art old,  And see thy blood warm when thou feel’st it cold.                    3Look in thy glass and tell the face thou viewest,Now is the time that face should form another,Whose fresh repair if now thou not renewest,Thou dost beguile the world, unbless some mother.For where is she so fair whose uneared wombDisdains the tillage of thy husbandry?Or who is he so fond will be the tombOf his self-love to stop posterity?Thou art thy mother’s glass and she in theeCalls back the lovely April of her prime,So thou through windows of thine age shalt see,Despite of wrinkles this thy golden time.  But if thou live remembered not to be,  Die single and thine image dies with thee.                    4Unthrifty loveliness why dost thou spend,Upon thy self thy beauty’s legacy?Nature’s bequest gives nothing but doth lend,And being frank she lends to those are free:Then beauteous niggard why dost thou abuse,The bounteous largess given thee to give?Profitless usurer why dost thou useSo great a sum of sums yet canst not live?For having traffic with thy self alone,Thou of thy self thy sweet self dost deceive,Then how when nature calls thee to be gone,What acceptable audit canst thou leave?  Thy unused beauty must be tombed with thee,  Which used lives th’ executor to be.                    5Those hours that with gentle work did frameThe lovely gaze where every eye doth dwellWill play the tyrants to the very same,And that unfair which fairly doth excel:For never-resting time leads summer onTo hideous winter and confounds him there,Sap checked with frost and lusty leaves quite gone,Beauty o’er-snowed and bareness every where:Then were not summer’s distillation leftA liquid prisoner pent in walls of glass,Beauty’s effect with beauty were bereft,Nor it nor no remembrance what it was.  But flowers distilled though they with winter meet,  Leese but their show, their substance still lives sweet.                    6Then let not winter’s ragged hand deface,In thee thy summer ere thou be distilled:Make sweet some vial; treasure thou some place,With beauty’s treasure ere it be self-killed:That use is not forbidden usury,Which happies those that pay the willing loan;That’s for thy self to breed another thee,Or ten times happier be it ten for one,Ten times thy self were happier than thou art,If ten of thine ten times refigured thee:Then what could death do if thou shouldst depart,Leaving thee living in posterity?  Be not self-willed for thou art much too fair,  To be death’s conquest and make worms thine heir.                    7Lo in the orient when the gracious lightLifts up his burning head, each under eyeDoth homage to his new-appearing sight,Serving with looks his sacred majesty,And having climbed the steep-up heavenly hill,Resembling strong youth in his middle age,Yet mortal looks adore his beauty still,Attending on his golden pilgrimage:But when from highmost pitch with weary car,Like feeble age he reeleth from the day,The eyes (fore duteous) now converted areFrom his low tract and look another way:  So thou, thy self out-going in thy noon:  Unlooked on diest unless thou get a son.                    8Music to hear, why hear’st thou music sadly?Sweets with sweets war not, joy delights in joy:Why lov’st thou that which thou receiv’st not gladly,Or else receiv’st with pleasure thine annoy?If the true concord of well-tuned sounds,By unions married do offend thine ear,They do but sweetly chide thee, who confoundsIn singleness the parts that thou shouldst bear:Mark how one string sweet husband to another,Strikes each in each by mutual ordering;Resembling sire, and child, and happy mother,Who all in one, one pleasing note do sing:  Whose speechless song being many, seeming one,  Sings this to thee, ‘Thou single wilt prove none’.                    9Is it for fear to wet a widow’s eye,That thou consum’st thy self in single life?Ah, if thou issueless shalt hap to die,The world will wail thee like a makeless wife,The world will be thy widow and still weep,That thou no form of thee hast left behind,When every private widow well may keep,By children’s eyes, her husband’s shape in mind:Look what an unthrift in the world doth spendShifts but his place, for still the world enjoys it;But beauty’s waste hath in the world an end,And kept unused the user so destroys it:  No love toward others in that bosom sits  That on himself such murd’rous shame commits.                    10For shame deny that thou bear’st love to anyWho for thy self art so unprovident.Grant if thou wilt, thou art beloved of many,But that thou none lov’st is most evident:For thou art so possessed with murd’rous hate,That ’gainst thy self thou stick’st not to conspire,Seeking that beauteous roof to ruinateWhich to repair should be thy chief desire:O change thy thought, that I may change my mind,Shall hate be fairer lodged than gentle love?Be as thy presence is gracious and kind,Or to thy self at least kind-hearted prove,  Make thee another self for love of me,  That beauty still may live in thine or thee.                    11As fast as thou shalt wane so fast thou grow’st,In one of thine, from that which thou departest,And that fresh blood which youngly thou bestow’st,Thou mayst call thine, when thou from youth convertest,Herein lives wisdom, beauty, and increase,Without this folly, age, and cold decay,If all were minded so, the times should cease,And threescore year would make the world away:Let those whom nature hath not made for store,Harsh, featureless, and rude, barrenly perish:Look whom she best endowed, she gave thee more;Which bounteous gift thou shouldst in bounty cherish:  She carved thee for her seal, and meant thereby,  Thou shouldst print more, not let that copy die.                    12When I do count the clock that tells the time,And see the brave day sunk in hideous night,When I behold the violet past prime,And sable curls all silvered o’er with white:When lofty trees I see barren of leaves,Which erst from heat did canopy the herdAnd summer’s green all girded up in sheavesBorne on the bier with white and bristly beard:Then of thy beauty do I question makeThat thou among the wastes of time must go,Since sweets and beauties do themselves forsake,And die as fast as they see others grow,  And nothing ’gainst Time’s scythe can make defence  Save breed to brave him, when he takes thee hence.                    13O that you were your self, but love you areNo longer yours, than you your self here live,Against this coming end you should prepare,And your sweet semblance to some other give.So should that beauty which you hold in leaseFind no determination, then you wereYour self again after your self’s decease,When your sweet issue your sweet form should bear.Who lets so fair a house fall to decay,Which husbandry in honour might uphold,Against the stormy gusts of winter’s dayAnd barren rage of death’s eternal cold?  O none but unthrifts, dear my love you know,  You had a father, let your son say so.                    14Not from the stars do I my judgement pluck,And yet methinks I have astronomy,But not to tell of good, or evil luck,Of plagues, of dearths, or seasons’ quality,Nor can I fortune to brief minutes tell;Pointing to each his thunder, rain and wind,Or say with princes if it shall go wellBy oft predict that I in heaven find.But from thine eyes my knowledge I derive,And constant stars in them I read such artAs truth and beauty shall together thriveIf from thy self, to store thou wouldst convert:  Or else of thee this I prognosticate,  Thy end is truth’s and beauty’s doom and date.                    15When I consider every thing that growsHolds in perfection but a little moment.That this huge stage presenteth nought but showsWhereon the stars in secret influence comment.When I perceive that men as plants increase,Cheered and checked even by the self-same sky:Vaunt in their youthful sap, at height decrease,And wear their brave state out of memory.Then the conceit of this inconstant stay,Sets you most rich in youth before my sight,Where wasteful time debateth with decayTo change your day of youth to sullied night,  And all in war with Time for love of you,  As he takes from you, I engraft you new.                    16But wherefore do not you a mightier wayMake war upon this bloody tyrant Time?And fortify your self in your decayWith means more blessed than my barren rhyme?Now stand you on the top of happy hours,And many maiden gardens yet unset,With virtuous wish would bear you living flowers,Much liker than your painted counterfeit:So should the lines of life that life repairWhich this (Time’s pencil) or my pupil penNeither in inward worth nor outward fairCan make you live your self in eyes of men.  To give away your self, keeps your self still,  And you must live drawn by your own sweet skill.                    17Who will believe my verse in time to comeIf it were filled with your most high deserts?Though yet heaven knows it is but as a tombWhich hides your life, and shows not half your parts:If I could write the beauty of your eyes,And in fresh numbers number all your graces,The age to come would say this poet lies,Such heavenly touches ne’er touched earthly faces.So should my papers (yellowed with their age)Be scorned, like old men of less truth than tongue,And your true rights be termed a poet’s rage,And stretched metre of an antique song.  But were some child of yours alive that time,  You should live twice in it, and in my rhyme.                    18Shall I compare thee to a summer’s day?Thou art more lovely and more temperate:Rough winds do shake the darling buds of May,And summer’s lease hath all too short a date:Sometime too hot the eye of heaven shines,And often is his gold complexion dimmed,And every fair from fair sometime declines,By chance, or nature’s changing course untrimmed:But thy eternal summer shall not fade,Nor lose possession of that fair thou ow’st,Nor shall death brag thou wand’rest in his shade,When in eternal lines to time thou grow’st,  So long as men can breathe or eyes can see,  So long lives this, and this gives life to thee.                    19Devouring Time blunt thou the lion’s paws,And make the earth devour her own sweet brood,Pluck the keen teeth from the fierce tiger’s jaws,And burn the long-lived phoenix, in her blood,Make glad and sorry seasons as thou fleet’st,And do whate’er thou wilt swift-footed TimeTo the wide world and all her fading sweets:But I forbid thee one most heinous crime,O carve not with thy hours my love’s fair brow,Nor draw no lines there with thine antique pen,Him in thy course untainted do allow,For beauty’s pattern to succeeding men.  Yet do thy worst old Time: despite thy wrong,  My love shall in my verse ever live young.                    20A woman’s face with nature’s own hand painted,Hast thou the master mistress of my passion,A woman’s gentle heart but not acquaintedWith shifting change as is false women’s fashion,An eye more bright than theirs, less false in rolling:Gilding the object whereupon it gazeth,A man in hue all hues in his controlling,Which steals men’s eyes and women’s souls amazeth.And for a woman wert thou first created,Till nature as she wrought thee fell a-doting,And by addition me of thee defeated,By adding one thing to my purpose nothing.  But since she pricked thee out for women’s pleasure,  Mine be thy love and thy love’s use their treasure.                    21So is it not with me as with that muse,Stirred by a painted beauty to his verse,Who heaven it self for ornament doth use,And every fair with his fair doth rehearse,Making a couplement of proud compareWith sun and moon, with earth and sea’s rich gems:With April’s first-born flowers and all things rare,That heaven’s air in this huge rondure hems.O let me true in love but truly write,And then believe me, my love is as fair,As any mother’s child, though not so brightAs those gold candles fixed in heaven’s air:  Let them say more that like of hearsay well,  I will not praise that purpose not to sell.                    22My glass shall not persuade me I am old,So long as youth and thou are of one date,But when in thee time’s furrows I behold,Then look I death my days should expiate.For all that beauty that doth cover thee,Is but the seemly raiment of my heart,Which in thy breast doth live, as thine in me,How can I then be elder than thou art?O therefore love be of thyself so wary,As I not for my self, but for thee will,Bearing thy heart which I will keep so charyAs tender nurse her babe from faring ill.  Presume not on thy heart when mine is slain,  Thou gav’st me thine not to give back again.                    23As an unperfect actor on the stage,Who with his fear is put beside his part,Or some fierce thing replete with too much rage,Whose strength’s abundance weakens his own heart;So I for fear of trust, forget to say,The perfect ceremony of love’s rite,And in mine own love’s strength seem to decay,O’ercharged with burthen of mine own love’s might:O let my looks be then the eloquence,And dumb presagers of my speaking breast,Who plead for love, and look for recompense,More than that tongue that more hath more expressed.  O learn to read what silent love hath writ,  To hear with eyes belongs to love’s fine wit.                    24Mine eye hath played the painter and hath stelled,Thy beauty’s form in table of my heart,My body is the frame wherein ’tis held,And perspective it is best painter’s art.For through the painter must you see his skill,To find where your true image pictured lies,Which in my bosom’s shop is hanging still,That hath his windows glazed with thine eyes:Now see what good turns eyes for eyes have done,Mine eyes have drawn thy shape, and thine for meAre windows to my breast, where-through the sunDelights to peep, to gaze therein on thee;  Yet eyes this cunning want to grace their art,  They draw but what they see, know not the heart.                    25Let those who are in favour with their stars,Of public honour and proud titles boast,Whilst I whom fortune of such triumph barsUnlooked for joy in that I honour most;Great princes’ favourites their fair leaves spread,But as the marigold at the sun’s eye,And in themselves their pride lies buried,For at a frown they in their glory die.The painful warrior famoused for fight,After a thousand victories once foiled,Is from the book of honour razed quite,And all the rest forgot for which he toiled:  Then happy I that love and am beloved  Where I may not remove nor be removed.                    26Lord of my love, to whom in vassalageThy merit hath my duty strongly knit;To thee I send this written embassageTo witness duty, not to show my wit.Duty so great, which wit so poor as mineMay make seem bare, in wanting words to show it;But that I hope some good conceit of thineIn thy soul’s thought (all naked) will bestow it:Till whatsoever star that guides my moving,Points on me graciously with fair aspect,And puts apparel on my tattered loving,To show me worthy of thy sweet respect,  Then may I dare to boast how I do love thee,  Till then, not show my head where thou mayst prove me.                    27Weary with toil, I haste me to my bed,The dear respose for limbs with travel tired,But then begins a journey in my headTo work my mind, when body’s work’s expired.For then my thoughts (from far where I abide)Intend a zealous pilgrimage to thee,And keep my drooping eyelids open wide,Looking on darkness which the blind do see.Save that my soul’s imaginary sightPresents thy shadow to my sightless view,Which like a jewel (hung in ghastly night)Makes black night beauteous, and her old face new.  Lo thus by day my limbs, by night my mind,  For thee, and for my self, no quiet find.                    28How can I then return in happy plightThat am debarred the benefit of rest?When day’s oppression is not eased by night,But day by night and night by day oppressed.And each (though enemies to either’s reign)Do in consent shake hands to torture me,The one by toil, the other to complainHow far I toil, still farther off from thee.I tell the day to please him thou art bright,And dost him grace when clouds do blot '"
      ]
     },
     "execution_count": 39,
     "metadata": {},
     "output_type": "execute_result"
    }
   ],
   "source": [
    "clamped_data = new_data[:20000]\n",
    "\n",
    "clamped_data"
   ]
  },
  {
   "cell_type": "code",
   "execution_count": 59,
   "metadata": {},
   "outputs": [],
   "source": [
    "# Unique Characters\n",
    "chars = list(set(clamped_data))\n",
    "\n",
    "# Lookup Tables\n",
    "char_int = {c:i for i, c in enumerate(chars)} \n",
    "int_char = {i:c for i, c in enumerate(chars)} "
   ]
  },
  {
   "cell_type": "code",
   "execution_count": 60,
   "metadata": {},
   "outputs": [
    {
     "name": "stdout",
     "output_type": "stream",
     "text": [
      "sequences:  19920\n"
     ]
    }
   ],
   "source": [
    "# Create the sequence data\n",
    "\n",
    "maxlen = 80\n",
    "step = 1\n",
    "\n",
    "encoded = [char_int[c] for c in clamped_data]\n",
    "\n",
    "sequences = [] # Each element is 80 chars long\n",
    "next_char = [] # One element for each sequence\n",
    "\n",
    "for i in range(0, len(encoded) - maxlen, step):\n",
    "    \n",
    "    sequences.append(encoded[i : i + maxlen])\n",
    "    next_char.append(encoded[i + maxlen])\n",
    "    \n",
    "print('sequences: ', len(sequences))\n"
   ]
  },
  {
   "cell_type": "code",
   "execution_count": 61,
   "metadata": {},
   "outputs": [],
   "source": [
    "# Create x & y\n",
    "\n",
    "x = np.zeros((len(sequences), maxlen, len(chars)), dtype=np.bool)\n",
    "y = np.zeros((len(sequences),len(chars)), dtype=np.bool)\n",
    "\n",
    "for i, sequence in enumerate(sequences):\n",
    "    for t, char in enumerate(sequence):\n",
    "        x[i,t,char] = 1\n",
    "        \n",
    "    y[i, next_char[i]] = 1"
   ]
  },
  {
   "cell_type": "code",
   "execution_count": 62,
   "metadata": {},
   "outputs": [],
   "source": [
    "# build the model: a single LSTM\n",
    "\n",
    "model = Sequential()\n",
    "model.add(LSTM(128, input_shape=(maxlen, len(chars)), activation='tanh', recurrent_activation='sigmoid', dropout=0.2, recurrent_dropout=0, unroll=False, use_bias=True))\n",
    "model.add(Dense(len(chars), activation='softmax'))\n",
    "\n",
    "model.compile(loss='categorical_crossentropy', optimizer='adam')"
   ]
  },
  {
   "cell_type": "code",
   "execution_count": 63,
   "metadata": {},
   "outputs": [],
   "source": [
    "def sample(preds):\n",
    "    # helper function to sample an index from a probability array\n",
    "    preds = np.asarray(preds).astype('float64')\n",
    "    preds = np.log(preds) / 1\n",
    "    exp_preds = np.exp(preds)\n",
    "    preds = exp_preds / np.sum(exp_preds)\n",
    "    probas = np.random.multinomial(1, preds, 1)\n",
    "    return np.argmax(probas)"
   ]
  },
  {
   "cell_type": "code",
   "execution_count": 64,
   "metadata": {},
   "outputs": [],
   "source": [
    "def on_epoch_end(epoch, _):\n",
    "    # Function invoked at end of each epoch. Prints generated text.\n",
    "    \n",
    "    print()\n",
    "    print('----- Generating text after Epoch: %d' % epoch)\n",
    "    \n",
    "    start_index = random.randint(0, len(text) - maxlen - 1)\n",
    "    \n",
    "    generated = ''\n",
    "    \n",
    "    sentence = text[start_index: start_index + maxlen]\n",
    "    generated += sentence\n",
    "    \n",
    "    print('----- Generating with seed: \"' + sentence + '\"')\n",
    "    sys.stdout.write(generated)\n",
    "    \n",
    "    for i in range(400):\n",
    "        x_pred = np.zeros((1, maxlen, len(chars)))\n",
    "        for t, char in enumerate(sentence):\n",
    "            x_pred[0, t, char_int[char]] = 1\n",
    "            \n",
    "        preds = model.predict(x_pred, verbose=0)[0]\n",
    "        next_index = sample(preds)\n",
    "        next_char = int_char[next_index]\n",
    "        \n",
    "        sentence = sentence[1:] + next_char\n",
    "        \n",
    "        sys.stdout.write(next_char)\n",
    "        sys.stdout.flush()\n",
    "    print()\n",
    "\n",
    "\n",
    "print_callback = LambdaCallback(on_epoch_end=on_epoch_end)"
   ]
  },
  {
   "cell_type": "code",
   "execution_count": 65,
   "metadata": {},
   "outputs": [
    {
     "name": "stdout",
     "output_type": "stream",
     "text": [
      "Epoch 1/10\n"
     ]
    },
    {
     "ename": "UnknownError",
     "evalue": " [_Derived_]  Fail to find the dnn implementation.\n\t [[{{node CudnnRNN}}]]\n\t [[sequential_2/lstm_1/StatefulPartitionedCall]] [Op:__inference_train_function_6555]\n\nFunction call stack:\ntrain_function -> train_function -> train_function\n",
     "output_type": "error",
     "traceback": [
      "\u001b[1;31m---------------------------------------------------------------------------\u001b[0m",
      "\u001b[1;31mUnknownError\u001b[0m                              Traceback (most recent call last)",
      "\u001b[1;32m<ipython-input-65-fa59f3122510>\u001b[0m in \u001b[0;36m<module>\u001b[1;34m\u001b[0m\n\u001b[0;32m      4\u001b[0m           \u001b[0mbatch_size\u001b[0m\u001b[1;33m=\u001b[0m\u001b[1;36m512\u001b[0m\u001b[1;33m,\u001b[0m\u001b[1;33m\u001b[0m\u001b[0m\n\u001b[0;32m      5\u001b[0m           \u001b[0mepochs\u001b[0m\u001b[1;33m=\u001b[0m\u001b[1;36m10\u001b[0m\u001b[1;33m,\u001b[0m\u001b[1;33m\u001b[0m\u001b[0m\n\u001b[1;32m----> 6\u001b[1;33m           callbacks=[print_callback])\n\u001b[0m",
      "\u001b[1;32m~\\anaconda3\\envs\\U4S1NLP\\lib\\site-packages\\tensorflow\\python\\keras\\engine\\training.py\u001b[0m in \u001b[0;36m_method_wrapper\u001b[1;34m(self, *args, **kwargs)\u001b[0m\n\u001b[0;32m     64\u001b[0m   \u001b[1;32mdef\u001b[0m \u001b[0m_method_wrapper\u001b[0m\u001b[1;33m(\u001b[0m\u001b[0mself\u001b[0m\u001b[1;33m,\u001b[0m \u001b[1;33m*\u001b[0m\u001b[0margs\u001b[0m\u001b[1;33m,\u001b[0m \u001b[1;33m**\u001b[0m\u001b[0mkwargs\u001b[0m\u001b[1;33m)\u001b[0m\u001b[1;33m:\u001b[0m\u001b[1;33m\u001b[0m\u001b[0m\n\u001b[0;32m     65\u001b[0m     \u001b[1;32mif\u001b[0m \u001b[1;32mnot\u001b[0m \u001b[0mself\u001b[0m\u001b[1;33m.\u001b[0m\u001b[0m_in_multi_worker_mode\u001b[0m\u001b[1;33m(\u001b[0m\u001b[1;33m)\u001b[0m\u001b[1;33m:\u001b[0m  \u001b[1;31m# pylint: disable=protected-access\u001b[0m\u001b[1;33m\u001b[0m\u001b[0m\n\u001b[1;32m---> 66\u001b[1;33m       \u001b[1;32mreturn\u001b[0m \u001b[0mmethod\u001b[0m\u001b[1;33m(\u001b[0m\u001b[0mself\u001b[0m\u001b[1;33m,\u001b[0m \u001b[1;33m*\u001b[0m\u001b[0margs\u001b[0m\u001b[1;33m,\u001b[0m \u001b[1;33m**\u001b[0m\u001b[0mkwargs\u001b[0m\u001b[1;33m)\u001b[0m\u001b[1;33m\u001b[0m\u001b[0m\n\u001b[0m\u001b[0;32m     67\u001b[0m \u001b[1;33m\u001b[0m\u001b[0m\n\u001b[0;32m     68\u001b[0m     \u001b[1;31m# Running inside `run_distribute_coordinator` already.\u001b[0m\u001b[1;33m\u001b[0m\u001b[1;33m\u001b[0m\u001b[0m\n",
      "\u001b[1;32m~\\anaconda3\\envs\\U4S1NLP\\lib\\site-packages\\tensorflow\\python\\keras\\engine\\training.py\u001b[0m in \u001b[0;36mfit\u001b[1;34m(self, x, y, batch_size, epochs, verbose, callbacks, validation_split, validation_data, shuffle, class_weight, sample_weight, initial_epoch, steps_per_epoch, validation_steps, validation_batch_size, validation_freq, max_queue_size, workers, use_multiprocessing)\u001b[0m\n\u001b[0;32m    846\u001b[0m                 batch_size=batch_size):\n\u001b[0;32m    847\u001b[0m               \u001b[0mcallbacks\u001b[0m\u001b[1;33m.\u001b[0m\u001b[0mon_train_batch_begin\u001b[0m\u001b[1;33m(\u001b[0m\u001b[0mstep\u001b[0m\u001b[1;33m)\u001b[0m\u001b[1;33m\u001b[0m\u001b[0m\n\u001b[1;32m--> 848\u001b[1;33m               \u001b[0mtmp_logs\u001b[0m \u001b[1;33m=\u001b[0m \u001b[0mtrain_function\u001b[0m\u001b[1;33m(\u001b[0m\u001b[0miterator\u001b[0m\u001b[1;33m)\u001b[0m\u001b[1;33m\u001b[0m\u001b[0m\n\u001b[0m\u001b[0;32m    849\u001b[0m               \u001b[1;31m# Catch OutOfRangeError for Datasets of unknown size.\u001b[0m\u001b[1;33m\u001b[0m\u001b[1;33m\u001b[0m\u001b[0m\n\u001b[0;32m    850\u001b[0m               \u001b[1;31m# This blocks until the batch has finished executing.\u001b[0m\u001b[1;33m\u001b[0m\u001b[1;33m\u001b[0m\u001b[0m\n",
      "\u001b[1;32m~\\anaconda3\\envs\\U4S1NLP\\lib\\site-packages\\tensorflow\\python\\eager\\def_function.py\u001b[0m in \u001b[0;36m__call__\u001b[1;34m(self, *args, **kwds)\u001b[0m\n\u001b[0;32m    578\u001b[0m         \u001b[0mxla_context\u001b[0m\u001b[1;33m.\u001b[0m\u001b[0mExit\u001b[0m\u001b[1;33m(\u001b[0m\u001b[1;33m)\u001b[0m\u001b[1;33m\u001b[0m\u001b[0m\n\u001b[0;32m    579\u001b[0m     \u001b[1;32melse\u001b[0m\u001b[1;33m:\u001b[0m\u001b[1;33m\u001b[0m\u001b[0m\n\u001b[1;32m--> 580\u001b[1;33m       \u001b[0mresult\u001b[0m \u001b[1;33m=\u001b[0m \u001b[0mself\u001b[0m\u001b[1;33m.\u001b[0m\u001b[0m_call\u001b[0m\u001b[1;33m(\u001b[0m\u001b[1;33m*\u001b[0m\u001b[0margs\u001b[0m\u001b[1;33m,\u001b[0m \u001b[1;33m**\u001b[0m\u001b[0mkwds\u001b[0m\u001b[1;33m)\u001b[0m\u001b[1;33m\u001b[0m\u001b[0m\n\u001b[0m\u001b[0;32m    581\u001b[0m \u001b[1;33m\u001b[0m\u001b[0m\n\u001b[0;32m    582\u001b[0m     \u001b[1;32mif\u001b[0m \u001b[0mtracing_count\u001b[0m \u001b[1;33m==\u001b[0m \u001b[0mself\u001b[0m\u001b[1;33m.\u001b[0m\u001b[0m_get_tracing_count\u001b[0m\u001b[1;33m(\u001b[0m\u001b[1;33m)\u001b[0m\u001b[1;33m:\u001b[0m\u001b[1;33m\u001b[0m\u001b[0m\n",
      "\u001b[1;32m~\\anaconda3\\envs\\U4S1NLP\\lib\\site-packages\\tensorflow\\python\\eager\\def_function.py\u001b[0m in \u001b[0;36m_call\u001b[1;34m(self, *args, **kwds)\u001b[0m\n\u001b[0;32m    642\u001b[0m         \u001b[1;31m# Lifting succeeded, so variables are initialized and we can run the\u001b[0m\u001b[1;33m\u001b[0m\u001b[1;33m\u001b[0m\u001b[0m\n\u001b[0;32m    643\u001b[0m         \u001b[1;31m# stateless function.\u001b[0m\u001b[1;33m\u001b[0m\u001b[1;33m\u001b[0m\u001b[0m\n\u001b[1;32m--> 644\u001b[1;33m         \u001b[1;32mreturn\u001b[0m \u001b[0mself\u001b[0m\u001b[1;33m.\u001b[0m\u001b[0m_stateless_fn\u001b[0m\u001b[1;33m(\u001b[0m\u001b[1;33m*\u001b[0m\u001b[0margs\u001b[0m\u001b[1;33m,\u001b[0m \u001b[1;33m**\u001b[0m\u001b[0mkwds\u001b[0m\u001b[1;33m)\u001b[0m\u001b[1;33m\u001b[0m\u001b[0m\n\u001b[0m\u001b[0;32m    645\u001b[0m     \u001b[1;32melse\u001b[0m\u001b[1;33m:\u001b[0m\u001b[1;33m\u001b[0m\u001b[0m\n\u001b[0;32m    646\u001b[0m       \u001b[0mcanon_args\u001b[0m\u001b[1;33m,\u001b[0m \u001b[0mcanon_kwds\u001b[0m \u001b[1;33m=\u001b[0m\u001b[0;31m \u001b[0m\u001b[0;31m\\\u001b[0m\u001b[1;33m\u001b[0m\u001b[0m\n",
      "\u001b[1;32m~\\anaconda3\\envs\\U4S1NLP\\lib\\site-packages\\tensorflow\\python\\eager\\function.py\u001b[0m in \u001b[0;36m__call__\u001b[1;34m(self, *args, **kwargs)\u001b[0m\n\u001b[0;32m   2418\u001b[0m     \u001b[1;32mwith\u001b[0m \u001b[0mself\u001b[0m\u001b[1;33m.\u001b[0m\u001b[0m_lock\u001b[0m\u001b[1;33m:\u001b[0m\u001b[1;33m\u001b[0m\u001b[0m\n\u001b[0;32m   2419\u001b[0m       \u001b[0mgraph_function\u001b[0m\u001b[1;33m,\u001b[0m \u001b[0margs\u001b[0m\u001b[1;33m,\u001b[0m \u001b[0mkwargs\u001b[0m \u001b[1;33m=\u001b[0m \u001b[0mself\u001b[0m\u001b[1;33m.\u001b[0m\u001b[0m_maybe_define_function\u001b[0m\u001b[1;33m(\u001b[0m\u001b[0margs\u001b[0m\u001b[1;33m,\u001b[0m \u001b[0mkwargs\u001b[0m\u001b[1;33m)\u001b[0m\u001b[1;33m\u001b[0m\u001b[0m\n\u001b[1;32m-> 2420\u001b[1;33m     \u001b[1;32mreturn\u001b[0m \u001b[0mgraph_function\u001b[0m\u001b[1;33m.\u001b[0m\u001b[0m_filtered_call\u001b[0m\u001b[1;33m(\u001b[0m\u001b[0margs\u001b[0m\u001b[1;33m,\u001b[0m \u001b[0mkwargs\u001b[0m\u001b[1;33m)\u001b[0m  \u001b[1;31m# pylint: disable=protected-access\u001b[0m\u001b[1;33m\u001b[0m\u001b[0m\n\u001b[0m\u001b[0;32m   2421\u001b[0m \u001b[1;33m\u001b[0m\u001b[0m\n\u001b[0;32m   2422\u001b[0m   \u001b[1;33m@\u001b[0m\u001b[0mproperty\u001b[0m\u001b[1;33m\u001b[0m\u001b[0m\n",
      "\u001b[1;32m~\\anaconda3\\envs\\U4S1NLP\\lib\\site-packages\\tensorflow\\python\\eager\\function.py\u001b[0m in \u001b[0;36m_filtered_call\u001b[1;34m(self, args, kwargs)\u001b[0m\n\u001b[0;32m   1663\u001b[0m          if isinstance(t, (ops.Tensor,\n\u001b[0;32m   1664\u001b[0m                            resource_variable_ops.BaseResourceVariable))),\n\u001b[1;32m-> 1665\u001b[1;33m         self.captured_inputs)\n\u001b[0m\u001b[0;32m   1666\u001b[0m \u001b[1;33m\u001b[0m\u001b[0m\n\u001b[0;32m   1667\u001b[0m   \u001b[1;32mdef\u001b[0m \u001b[0m_call_flat\u001b[0m\u001b[1;33m(\u001b[0m\u001b[0mself\u001b[0m\u001b[1;33m,\u001b[0m \u001b[0margs\u001b[0m\u001b[1;33m,\u001b[0m \u001b[0mcaptured_inputs\u001b[0m\u001b[1;33m,\u001b[0m \u001b[0mcancellation_manager\u001b[0m\u001b[1;33m=\u001b[0m\u001b[1;32mNone\u001b[0m\u001b[1;33m)\u001b[0m\u001b[1;33m:\u001b[0m\u001b[1;33m\u001b[0m\u001b[0m\n",
      "\u001b[1;32m~\\anaconda3\\envs\\U4S1NLP\\lib\\site-packages\\tensorflow\\python\\eager\\function.py\u001b[0m in \u001b[0;36m_call_flat\u001b[1;34m(self, args, captured_inputs, cancellation_manager)\u001b[0m\n\u001b[0;32m   1744\u001b[0m       \u001b[1;31m# No tape is watching; skip to running the function.\u001b[0m\u001b[1;33m\u001b[0m\u001b[1;33m\u001b[0m\u001b[0m\n\u001b[0;32m   1745\u001b[0m       return self._build_call_outputs(self._inference_function.call(\n\u001b[1;32m-> 1746\u001b[1;33m           ctx, args, cancellation_manager=cancellation_manager))\n\u001b[0m\u001b[0;32m   1747\u001b[0m     forward_backward = self._select_forward_and_backward_functions(\n\u001b[0;32m   1748\u001b[0m         \u001b[0margs\u001b[0m\u001b[1;33m,\u001b[0m\u001b[1;33m\u001b[0m\u001b[0m\n",
      "\u001b[1;32m~\\anaconda3\\envs\\U4S1NLP\\lib\\site-packages\\tensorflow\\python\\eager\\function.py\u001b[0m in \u001b[0;36mcall\u001b[1;34m(self, ctx, args, cancellation_manager)\u001b[0m\n\u001b[0;32m    596\u001b[0m               \u001b[0minputs\u001b[0m\u001b[1;33m=\u001b[0m\u001b[0margs\u001b[0m\u001b[1;33m,\u001b[0m\u001b[1;33m\u001b[0m\u001b[0m\n\u001b[0;32m    597\u001b[0m               \u001b[0mattrs\u001b[0m\u001b[1;33m=\u001b[0m\u001b[0mattrs\u001b[0m\u001b[1;33m,\u001b[0m\u001b[1;33m\u001b[0m\u001b[0m\n\u001b[1;32m--> 598\u001b[1;33m               ctx=ctx)\n\u001b[0m\u001b[0;32m    599\u001b[0m         \u001b[1;32melse\u001b[0m\u001b[1;33m:\u001b[0m\u001b[1;33m\u001b[0m\u001b[0m\n\u001b[0;32m    600\u001b[0m           outputs = execute.execute_with_cancellation(\n",
      "\u001b[1;32m~\\anaconda3\\envs\\U4S1NLP\\lib\\site-packages\\tensorflow\\python\\eager\\execute.py\u001b[0m in \u001b[0;36mquick_execute\u001b[1;34m(op_name, num_outputs, inputs, attrs, ctx, name)\u001b[0m\n\u001b[0;32m     58\u001b[0m     \u001b[0mctx\u001b[0m\u001b[1;33m.\u001b[0m\u001b[0mensure_initialized\u001b[0m\u001b[1;33m(\u001b[0m\u001b[1;33m)\u001b[0m\u001b[1;33m\u001b[0m\u001b[0m\n\u001b[0;32m     59\u001b[0m     tensors = pywrap_tfe.TFE_Py_Execute(ctx._handle, device_name, op_name,\n\u001b[1;32m---> 60\u001b[1;33m                                         inputs, attrs, num_outputs)\n\u001b[0m\u001b[0;32m     61\u001b[0m   \u001b[1;32mexcept\u001b[0m \u001b[0mcore\u001b[0m\u001b[1;33m.\u001b[0m\u001b[0m_NotOkStatusException\u001b[0m \u001b[1;32mas\u001b[0m \u001b[0me\u001b[0m\u001b[1;33m:\u001b[0m\u001b[1;33m\u001b[0m\u001b[0m\n\u001b[0;32m     62\u001b[0m     \u001b[1;32mif\u001b[0m \u001b[0mname\u001b[0m \u001b[1;32mis\u001b[0m \u001b[1;32mnot\u001b[0m \u001b[1;32mNone\u001b[0m\u001b[1;33m:\u001b[0m\u001b[1;33m\u001b[0m\u001b[0m\n",
      "\u001b[1;31mUnknownError\u001b[0m:  [_Derived_]  Fail to find the dnn implementation.\n\t [[{{node CudnnRNN}}]]\n\t [[sequential_2/lstm_1/StatefulPartitionedCall]] [Op:__inference_train_function_6555]\n\nFunction call stack:\ntrain_function -> train_function -> train_function\n"
     ]
    }
   ],
   "source": [
    "# fit the model\n",
    "\n",
    "model.fit(x, y,\n",
    "          batch_size=512,\n",
    "          epochs=10,\n",
    "          callbacks=[print_callback])"
   ]
  },
  {
   "cell_type": "markdown",
   "metadata": {
    "colab_type": "text",
    "id": "zE4a4O7Bp5x1"
   },
   "source": [
    "# Resources and Stretch Goals"
   ]
  },
  {
   "cell_type": "markdown",
   "metadata": {
    "colab_type": "text",
    "id": "uT3UV3gap9H6"
   },
   "source": [
    "## Stretch goals:\n",
    "- Refine the training and generation of text to be able to ask for different genres/styles of Shakespearean text (e.g. plays versus sonnets)\n",
    "- Train a classification model that takes text and returns which work of Shakespeare it is most likely to be from\n",
    "- Make it more performant! Many possible routes here - lean on Keras, optimize the code, and/or use more resources (AWS, etc.)\n",
    "- Revisit the news example from class, and improve it - use categories or tags to refine the model/generation, or train a news classifier\n",
    "- Run on bigger, better data\n",
    "\n",
    "## Resources:\n",
    "- [The Unreasonable Effectiveness of Recurrent Neural Networks](https://karpathy.github.io/2015/05/21/rnn-effectiveness/) - a seminal writeup demonstrating a simple but effective character-level NLP RNN\n",
    "- [Simple NumPy implementation of RNN](https://github.com/JY-Yoon/RNN-Implementation-using-NumPy/blob/master/RNN%20Implementation%20using%20NumPy.ipynb) - Python 3 version of the code from \"Unreasonable Effectiveness\"\n",
    "- [TensorFlow RNN Tutorial](https://github.com/tensorflow/models/tree/master/tutorials/rnn) - code for training a RNN on the Penn Tree Bank language dataset\n",
    "- [4 part tutorial on RNN](http://www.wildml.com/2015/09/recurrent-neural-networks-tutorial-part-1-introduction-to-rnns/) - relates RNN to the vanishing gradient problem, and provides example implementation\n",
    "- [RNN training tips and tricks](https://github.com/karpathy/char-rnn#tips-and-tricks) - some rules of thumb for parameterizing and training your RNN"
   ]
  }
 ],
 "metadata": {
  "kernelspec": {
   "display_name": "U4S1NLP (Python3)",
   "language": "python",
   "name": "u4s1nlp"
  },
  "language_info": {
   "codemirror_mode": {
    "name": "ipython",
    "version": 3
   },
   "file_extension": ".py",
   "mimetype": "text/x-python",
   "name": "python",
   "nbconvert_exporter": "python",
   "pygments_lexer": "ipython3",
   "version": "3.7.0"
  }
 },
 "nbformat": 4,
 "nbformat_minor": 4
}
